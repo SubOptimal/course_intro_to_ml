{
 "cells": [
  {
   "cell_type": "markdown",
   "metadata": {
    "collapsed": true
   },
   "source": [
    "## 1. Introduction"
   ]
  },
  {
   "cell_type": "markdown",
   "metadata": {},
   "source": [
    "### 1.1 Definitions and Terminology\n",
    "\n",
    "#### What is machine learning?\n",
    "\n",
    "Machine learning (ML) is a **field of artificial intelligence** that uses statistical techniques to give computer systems the ability to **learn (...) from data**, without being explicitly programmed.\n",
    "The name machine learning was coined in 1959 by Arthur Samuel.\n",
    "\n",
    "[Wikipedia ML](https://en.wikipedia.org/wiki/Machine_learning)\n",
    "<img alt=\"ML AI venn diagram\" src=\"../img/1/ML_AI_venn.png\" width=200>\n",
    "\n",
    "#### What is statistical learning?\n",
    "- Machine Learning is a subfield of computer science / artificial intelligence focussing on prediction accuracy and big data \n",
    "- **Statistical Learning** is a subfield of statistics focussing on model interpreatbility\n",
    "- Both Machine Learning and Statistical learning focus on supervised and unsupervised learning. They have a lot of overlap.\n",
    "\n"
   ]
  },
  {
   "cell_type": "markdown",
   "metadata": {},
   "source": [
    "#### What is AI?\n",
    " In computer science AI research is defined as the study of \"intelligent agents\": any device that perceives its environment and takes actions that maximize its chance of successfully achieving its goals.\n",
    "[Wikipedia AI](https://en.wikipedia.org/wiki/Artificial_intelligence)\n",
    "\n",
    "#### Neural Networks\n",
    "Artificial neural networks (ANN) or connectionist systems are computing systems vaguely inspired by the biological neural networks that constitute animal brains.\n",
    "[Wikipedia NN](https://en.wikipedia.org/wiki/Artificial_neural_network) \n",
    "\n",
    "A deep neural network (DNN) is an artificial neural network (ANN) with multiple layers between the input and output layers.\n",
    "[Wikipedia Deep Neural Networks](https://en.wikipedia.org/wiki/Deep_learning#Neural_networks)"
   ]
  },
  {
   "cell_type": "markdown",
   "metadata": {},
   "source": [
    "### 1.2 Machine Learning Concepts\n",
    "\n",
    "#### Difference between traditional programming and Machine Learning\n",
    "![ML vs traditional programming](../img/1/ML_vs_trad.png)\n",
    "\n"
   ]
  },
  {
   "cell_type": "markdown",
   "metadata": {},
   "source": [
    "#### A Simple Example\n",
    "<table>\n",
    "    <tr>\n",
    "        <td  style=\"text-align:left\" width=300>\n",
    "            When looking at data one tries to identify patterns in the data as shown here. \n",
    "            We wonder what is the cause of that pattern. \n",
    "            We can build a <em>model</em> to try to explain the pattern we observe.\n",
    "            <ul>\n",
    "                <li> Y is the dependant variable, outcome, response, target</li>\n",
    "                <li> X is the independent variable, features</li>\n",
    "            </ul>\n",
    "        </td>\n",
    "        <td>\n",
    "            <img alt=\"simple example\" src=\"../img/1/simple_example.png\" width=400>\n",
    "        </td>\n",
    "    </tr>\n",
    "</table>\n",
    "\n",
    "\n",
    "\n",
    "We believe there is a true mechanism ($\\color{red}{target function f(x)}$ ) that describes the relationship between our variables. The aim of machine learning is to find a model ($\\color{blue}{model \\hat{f}(x)}$) that estimates this function from the data. \n",
    "\n",
    "![estimating the target function](../img/1/target_function.jpg)"
   ]
  },
  {
   "cell_type": "markdown",
   "metadata": {},
   "source": [
    "On the highest level machine learning can be subdived into *supervised* and *unsupervised learning*.\n",
    "\n",
    "The criteria is the presence or absence of **labels**. \n",
    "\n",
    "Next you see some code to generate a data frame with of random numbers.\n",
    "\n",
    "Rows are **observations**. Columns 1-4 are **features**. Out is the **label**."
   ]
  },
  {
   "cell_type": "code",
   "execution_count": 1,
   "metadata": {},
   "outputs": [
    {
     "name": "stdout",
     "output_type": "stream",
     "text": [
      "          0         1         2         3         4\n",
      "0  1.002135 -2.130391  0.498463  1.291054 -1.938559\n",
      "1 -2.171791 -0.314611  1.607718 -1.782366 -1.912394\n",
      "2  0.748225  1.018423 -1.234628  0.470358  1.902838\n",
      "3  0.649036  0.848954  0.933063 -0.054601  0.363106\n",
      "4 -0.307742 -1.937922  2.617822 -0.183965 -3.469640\n",
      "   0\n",
      "0  1\n",
      "1  1\n",
      "2  2\n",
      "3  2\n",
      "4  0\n"
     ]
    }
   ],
   "source": [
    "from sklearn.datasets import make_classification\n",
    "import pandas as pd\n",
    "# Create a simulated feature matrix and output vector\n",
    "X, y = make_classification(n_samples = 100, n_features = 5, n_informative = 3, n_redundant = 2,\n",
    "                                       n_classes = 3, weights = [.2, .3, .5])\n",
    "\n",
    "# View the first 5 observations\n",
    "print(pd.DataFrame(X).head())\n",
    "\n",
    "# View the first 5 labels\n",
    "print(pd.DataFrame(y).head())"
   ]
  },
  {
   "cell_type": "markdown",
   "metadata": {},
   "source": [
    "#### Supervised Learning\n",
    "you start with\n",
    "- y = outcome measurement (label, dependent variable, response, target)\n",
    "\t- regression problem y is continuous (5, 3.456, 1023) \n",
    "\t- classification problem y is discrete (yes/no, A,B,C)\n",
    "- X = vector of predictor measurement (independent variable, features)\n",
    "- training data: observations of measurements: $(x_1,y_1), (x_2,y_2), (x_3,y_3) ... (x_n,y_n)$\n",
    "\n",
    "\n",
    "e.g. Classification, Regression\n",
    "\n",
    "You will learn more about [supervised learning](2_supervised_learning.ipynb) in the next class."
   ]
  },
  {
   "cell_type": "markdown",
   "metadata": {},
   "source": [
    "#### Unsupervised Learning\n",
    "you start with\n",
    "- no outcome variable\n",
    "- X = vector of measurements(independent variable, features)\n",
    "- objective is more fuzzy: groups samples, find features\n",
    "- more difficult to evaluate, but easier to get training data\n",
    "- observations of measurements: $x_1, x_2, x_3 ... x_n$\n",
    "\n",
    "\n",
    "Objectives are more fuzzy for unsupervised learning\n",
    "\n",
    "Using the training data we want:\n",
    "- Find samples that behave similarly\n",
    "- Find features that behave similarly\n",
    "- Difficult to assess quality\n",
    "\n",
    "e.g. Clustering\n",
    "<img src=\"../img/1/cats_and_dogs.png\" alt=\"cats and dogs\" width=500>\n",
    "\n",
    "You will learn more about [unsupervised learning](3_unsupervised_learning.ipynb) later today."
   ]
  },
  {
   "cell_type": "markdown",
   "metadata": {},
   "source": [
    "Unsupervised vs Supervised Learning\n",
    "\n",
    "<img src=\"../img/1/cluster_vs_classify.png\" alt=\"clustering vs classification\" width=500>\n",
    "\n",
    "source: https://deepcast.ai/media/article3/"
   ]
  },
  {
   "cell_type": "markdown",
   "metadata": {},
   "source": [
    "#### Concept Map\n",
    "<img src=\"../img/1/ML_concept_map.png\" alt=\"ML concept map\" width=500>\n",
    "<img src=\"../img/1/machine_learning_cmap.jpg\" alt=\"ML concept map\" width=500>\n"
   ]
  },
  {
   "cell_type": "markdown",
   "metadata": {},
   "source": [
    "#### Regression vs Classification\n",
    "Supervised learning problems can be further divided into regression and classification problems.\n",
    "\n",
    "\n",
    "Regression covers situations where y is continuous/numerical. e.g.\n",
    "- Predicting the value of the Dow in 6 months.\n",
    "- Predicting the price of a given house based on various inputs.\n",
    "\n",
    "Classification covers situations where y is categorical e.g.\n",
    "- Will the Dow be up (U) or down (D) in 6 months?\n",
    "- Is this email a SPAM or not?\n"
   ]
  },
  {
   "cell_type": "markdown",
   "metadata": {},
   "source": [
    "#### Why do we estimate f(x)? There are 2 reasons:\n",
    "1. Prediction\n",
    "2. Inference\n",
    "\n",
    "##### Prediction\n",
    "If we can produce a good estimate for f, we can make accurate predictions for the response, Y, based on a new value of X.\n",
    "\n",
    "E.g. predicting how much money someone will earn based on education level and age.\n",
    "\n",
    "##### Inference\n",
    "Alternatively, we may also be interested in **understanding** the type of relationship between Y and the X's. For example, \n",
    "- Which particular predictors actually affect the response? \n",
    "- Is the relationship positive or negative? \n",
    "- Is the relationship a simple linear one or is it more complicated etc.?\n",
    "\n",
    "\n",
    "##### There is a Trade-off: Prediction vs Inference\n",
    "Simple models are often advantageous for both prediction as well as Inference.\n",
    "- Simple models are easier to interpret. Easier to understand.\n",
    "- Also, a simple model is often easier to train. It is harder to fit a flexible model. Only really complex tasks require more flexible models such as neural networks.\n",
    "\n",
    "Take home message: Always start with a simple model."
   ]
  },
  {
   "cell_type": "markdown",
   "metadata": {},
   "source": [
    "#### Assessing Model Quality\n",
    "\n",
    "How do we know if the model we build is close enough to the target function?\n",
    "\n",
    "How good are our predictions?\n",
    "\n",
    "We need to test our model. One way to do this is to split our data set into:\n",
    "    - train \n",
    "    - test\n"
   ]
  },
  {
   "cell_type": "code",
   "execution_count": null,
   "metadata": {},
   "outputs": [],
   "source": [
    "from sklearn.model_selection import train_test_split\n",
    "X_train, X_test, y_train, y_test = train_test_split(X, y, test_size=0.33, random_state=42)\n",
    "print(X_train.shape, y_train.shape)"
   ]
  },
  {
   "cell_type": "markdown",
   "metadata": {},
   "source": [
    "### 1.3 Technology\n",
    "Have a look at the technology used in this course [here](../md/technologies.md).\n",
    "\n",
    "\n",
    "Scikit learn is a collection of ML methods that can be used throughout any data science project.\n",
    "\n",
    "Here is an example on a simple classification model. The procedure is always consitent:\n",
    "\n",
    "- create a model -->  fit (learning from data)  --> predict (using the model to make predicionts) --> evaluate predictions\n",
    "\n",
    "\n",
    "First build a classifier"
   ]
  },
  {
   "cell_type": "code",
   "execution_count": null,
   "metadata": {},
   "outputs": [],
   "source": [
    "from sklearn import svm\n",
    "clf = svm.SVC(gamma='scale')"
   ]
  },
  {
   "cell_type": "markdown",
   "metadata": {},
   "source": [
    "Next, fit the model"
   ]
  },
  {
   "cell_type": "code",
   "execution_count": null,
   "metadata": {},
   "outputs": [],
   "source": [
    "print(X_train.shape, y_train.shape)\n",
    "clf.fit(X_train, y_train)"
   ]
  },
  {
   "cell_type": "markdown",
   "metadata": {},
   "source": [
    "Now you can use the model to make predictions and compare with the truth."
   ]
  },
  {
   "cell_type": "code",
   "execution_count": null,
   "metadata": {},
   "outputs": [],
   "source": [
    "y_pred = clf.predict(X_test)\n",
    "print(\"test:\", y_test)\n",
    "print(\"pred:\", y_pred)"
   ]
  }
 ],
 "metadata": {
  "kernelspec": {
   "display_name": "Python 3",
   "language": "python",
   "name": "python3"
  },
  "language_info": {
   "codemirror_mode": {
    "name": "ipython",
    "version": 3
   },
   "file_extension": ".py",
   "mimetype": "text/x-python",
   "name": "python",
   "nbconvert_exporter": "python",
   "pygments_lexer": "ipython3",
   "version": "3.6.5"
  }
 },
 "nbformat": 4,
 "nbformat_minor": 1
}
