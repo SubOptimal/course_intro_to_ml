{
 "cells": [
  {
   "cell_type": "markdown",
   "metadata": {
    "collapsed": true
   },
   "source": [
    "## 1. Introduction"
   ]
  },
  {
   "cell_type": "markdown",
   "metadata": {},
   "source": [
    "print(\"Hello World\")"
   ]
  },
  {
   "cell_type": "markdown",
   "metadata": {},
   "source": [
    "### 1.1 Definitions and Terminology\n",
    "What is machine learning, statistical learning, AI, Neural Networks, Deep Learning"
   ]
  },
  {
   "cell_type": "markdown",
   "metadata": {},
   "source": [
    "### 1.2 Machine Learning Concepts\n",
    "Models, predictions, supervised learning, unsupervised learning, classification, regression, bias - variance tradeoff\n",
    "![alt text](../img/fig001.png \"ISLR figure\")\n",
    "\n",
    "#### Supervised Learning\n",
    "- you start with\n",
    "- Y = outcome measurement (dependent variable, response, target)\n",
    "\t- regression problem Y is continuous (5, 3.456, 1023) \n",
    "\t- classification problem Y is discrete (yes/no, A,B,C)\n",
    "- X = vector of predictor measurement (independent variable, features)\u000b\n",
    "- training data: observations of measurements: (x1,y1), (x2,y2), (x3,y3) ... (xn,yn)\n",
    "\n",
    "\n"
   ]
  },
  {
   "cell_type": "code",
   "execution_count": null,
   "metadata": {},
   "outputs": [],
   "source": [
    "import pandas as pd\n",
    "pd.DataFrame(data={\"id\":[1,2,3], \"val\":[12,3223,2]})"
   ]
  },
  {
   "cell_type": "code",
   "execution_count": null,
   "metadata": {},
   "outputs": [],
   "source": [
    ""
   ]
  }
 ],
 "metadata": {
  "kernelspec": {
   "display_name": "Python 2",
   "language": "python",
   "name": "python2"
  },
  "language_info": {
   "codemirror_mode": {
    "name": "ipython",
    "version": 2
   },
   "file_extension": ".py",
   "mimetype": "text/x-python",
   "name": "python",
   "nbconvert_exporter": "python",
   "pygments_lexer": "ipython2",
   "version": "2.7.6"
  }
 },
 "nbformat": 4,
 "nbformat_minor": 0
}
