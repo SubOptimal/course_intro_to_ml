{
 "cells": [
  {
   "cell_type": "markdown",
   "metadata": {
    "collapsed": true
   },
   "source": [
    "## 1. Introduction"
   ]
  },
  {
   "cell_type": "markdown",
   "metadata": {},
   "source": [
    "print(\"Hello World\")"
   ]
  },
  {
   "cell_type": "markdown",
   "metadata": {},
   "source": [
    "### 1.1 Definitions and Terminology\n",
    "#### What is machine learning?\n",
    "Machine learning (ML) is a **field of artificial intelligence** that uses statistical techniques to give computer systems the ability to **learn (...) from data**, without being explicitly programmed.\n",
    "The name machine learning was coined in 1959 by Arthur Samuel.\n",
    "\n",
    "[Wikipedia ML](https://en.wikipedia.org/wiki/Machine_learning)\n",
    "\n",
    "![ML AI venn diagram](../img/ML_AI_venn.png)\n",
    "\n",
    "#### What is statistical learning?\n",
    "- Machine Learning is a subfield of computer science / artificial intelligence focussing o\n",
    "n prediction accuracy and big data \n",
    "- **Statistical Learning** is a subfield of statistics focussing on model interpreatbility\n",
    "- Both Machine Learning and Statistical learning focus on supervised and unsupervised learning. They have a lot of overlap.\n",
    "\n",
    "#### What is AI\n",
    " In computer science AI research is defined as the study of \"intelligent agents\": any device that perceives its environment and takes actions that maximize its chance of successfully achieving its goals.[1] \n",
    "[Wikipedia AI](https://en.wikipedia.org/wiki/Artificial_intelligence)\n",
    "\n"
   ]
  },
  {
   "cell_type": "markdown",
   "metadata": {},
   "source": [
    "### 1.2 Machine Learning Concepts\n",
    "Models, predictions, supervised learning, unsupervised learning, classification, regression, bias - variance tradeoff\n",
    "![alt text](../img/fig001.png \"ISLR figure\")\n",
    "\n",
    "#### Supervised Learning\n",
    "- you start with\n",
    "- Y = outcome measurement (dependent variable, response, target)\n",
    "\t- regression problem Y is continuous (5, 3.456, 1023) \n",
    "\t- classification problem Y is discrete (yes/no, A,B,C)\n",
    "- X = vector of predictor measurement (independent variable, features)\u000b\n",
    "- training data: observations of measurements: (x1,y1), (x2,y2), (x3,y3) ... (xn,yn)\n",
    "\n",
    "\n"
   ]
  },
  {
   "cell_type": "code",
   "execution_count": null,
   "metadata": {},
   "outputs": [],
   "source": [
    "import pandas as pd\n",
    "pd.DataFrame(data={\"id\":[1,2,3], \"val\":[12,3223,2]})"
   ]
  },
  {
   "cell_type": "code",
   "execution_count": null,
   "metadata": {},
   "outputs": [],
   "source": [
    ""
   ]
  }
 ],
 "metadata": {
  "kernelspec": {
   "display_name": "Python 2",
   "language": "python",
   "name": "python2"
  },
  "language_info": {
   "codemirror_mode": {
    "name": "ipython",
    "version": 2
   },
   "file_extension": ".py",
   "mimetype": "text/x-python",
   "name": "python",
   "nbconvert_exporter": "python",
   "pygments_lexer": "ipython2",
   "version": "2.7.6"
  }
 },
 "nbformat": 4,
 "nbformat_minor": 0
}
