{
 "cells": [
  {
   "cell_type": "markdown",
   "metadata": {
    "collapsed": true
   },
   "source": [
    "## 1. Introduction"
   ]
  },
  {
   "cell_type": "markdown",
   "metadata": {},
   "source": [
    "### 1.1 Definitions and Terminology\n",
    "\n",
    "#### What is machine learning?\n",
    "\n",
    "Machine learning (ML) is a **field of artificial intelligence** that uses statistical techniques to give computer systems the ability to **learn (...) from data**, without being explicitly programmed.\n",
    "The name machine learning was coined in 1959 by Arthur Samuel.\n",
    "\n",
    "[Wikipedia ML](https://en.wikipedia.org/wiki/Machine_learning)\n",
    "\n",
    "![ML AI venn diagram](../img/1/ML_AI_venn.png)\n",
    "\n",
    "#### What is statistical learning?\n",
    "- Machine Learning is a subfield of computer science / artificial intelligence focussing on prediction accuracy and big data \n",
    "- **Statistical Learning** is a subfield of statistics focussing on model interpreatbility\n",
    "- Both Machine Learning and Statistical learning focus on supervised and unsupervised learning. They have a lot of overlap.\n",
    "\n",
    "#### What is AI?\n",
    " In computer science AI research is defined as the study of \"intelligent agents\": any device that perceives its environment and takes actions that maximize its chance of successfully achieving its goals.\n",
    "[Wikipedia AI](https://en.wikipedia.org/wiki/Artificial_intelligence)\n",
    "\n",
    "#### Neural Networks\n",
    "Artificial neural networks (ANN) or connectionist systems are computing systems vaguely inspired by the biological neural networks that constitute animal brains.\n",
    "[Wikipedia NN](https://en.wikipedia.org/wiki/Artificial_neural_network) \n",
    "\n",
    "A deep neural network (DNN) is an artificial neural network (ANN) with multiple layers between the input and output layers.\n",
    "[Wikipedia Deep Neural Networks](https://en.wikipedia.org/wiki/Deep_learning#Neural_networks)"
   ]
  },
  {
   "cell_type": "markdown",
   "metadata": {},
   "source": [
    "### 1.2 Machine Learning Concepts\n",
    "\n",
    "#### Difference between traditional programming and Machine Learning\n",
    "![ML vs traditional programming](../img/1/ML_vs_trad.png)\n",
    "\n"
   ]
  },
  {
   "cell_type": "markdown",
   "metadata": {},
   "source": [
    "#### A Simple Example\n",
    "![](../img/1/simple_example.png) \n",
    "\n",
    "When observing data, we wonder about the relationship of that data. What is the underlying cause? We believe there is a true mechanism that describes the relationship between our variablse which can be described as f(x) (blue). The aim of machine learning is to estimate this function from data with f_hat(x) (blue)\n",
    "\n",
    "![estimating the target function](../img/1/target_function.jpg)"
   ]
  },
  {
   "cell_type": "markdown",
   "metadata": {},
   "source": [
    "#### Supervised Learning\n",
    "you start with\n",
    "- Y = outcome measurement (dependent variable, response, target)\n",
    "\t- regression problem Y is continuous (5, 3.456, 1023) \n",
    "\t- classification problem Y is discrete (yes/no, A,B,C)\n",
    "- X = vector of predictor measurement (independent variable, features)\n",
    "- training data: observations of measurements: (x1,y1), (x2,y2), (x3,y3) ... (xn,yn)\n",
    "\n",
    "\n",
    "e.g. Classification, Regression"
   ]
  },
  {
   "cell_type": "markdown",
   "metadata": {},
   "source": [
    "#### Unsupervised Learning\n",
    "you start with\n",
    "- no outcome variable\n",
    "- X = vector of measurements(independent variable, features)\n",
    "- objective is more fuzzy: groups samples, find features\n",
    "- more difficult to evaluate, but easier to get training data\n",
    "- observations of measurements: x1, x2, x3, ... xn\n",
    "\n",
    "\n",
    "Objectives are more fuzzy for unsupervised learning\n",
    "\n",
    "Using the training data we want:\n",
    "- Find samples that behave similarly\n",
    "- Find features that behave similarly\n",
    "- Difficult to assess quality\n",
    "\n",
    "e.g. Clustering\n"
   ]
  },
  {
   "cell_type": "markdown",
   "metadata": {},
   "source": [
    "Unsupervised vs Supervised Learning\n",
    "\n",
    "![](../img/1/cluster_vs_classify.png)\n",
    "source: https://deepcast.ai/media/article3/"
   ]
  },
  {
   "cell_type": "markdown",
   "metadata": {},
   "source": [
    "#### Concept Map\n",
    "![ISLR figure](../img/1/ML_concept_map.png \"ML concept map\")"
   ]
  },
  {
   "cell_type": "markdown",
   "metadata": {},
   "source": [
    "#### Regression vs Classification\n",
    "Supervised learning problems can be further divided into regression and classification problems.\n",
    "\n",
    "\n",
    "Regression covers situations where Y is continuous/numerical. e.g.\n",
    "- Predicting the value of the Dow in 6 months.\n",
    "- Predicting the value of a given house based on various inputs.\n",
    "\n",
    "Classification covers situations where Y is categorical e.g.\n",
    "- Will the Dow be up (U) or down (D) in 6 months?\n",
    "- Is this email a SPAM or not?\n"
   ]
  },
  {
   "cell_type": "markdown",
   "metadata": {},
   "source": [
    "#### Why do we estimate f(x)? There are 2 reasons:\n",
    "1. Prediction\n",
    "2. Inference\n",
    "\n",
    "##### Predicion\n",
    "If we can produce a good estimate for f, we can make accurate predictions for the response, Y, based on a new value of X.\n",
    "\n",
    "E.g. predicting how much money someone will earn based on education level and age.\n",
    "\n",
    "##### Inference\n",
    "Alternatively, we may also be interested in the type of relationship between Y and the X's. For example, \n",
    "- Which particular predictors actually affect the response? \n",
    "- Is the relationship positive or negative? \n",
    "- Is the relationship a simple linear one or is it more complicated etc.?\n",
    "\n",
    "\n",
    "##### There is a Trade-off: Prediction vs Inference\n",
    "Simple models are often advantegous for both prediction as well as Inference.\n",
    "- Simple models are easier to interpret. Easier to understand.\n",
    "- Also, a simple model is often easier to train. It is harder to fit a flexible model. Only really complex tasks require more flexible models such as neural networks."
   ]
  },
  {
   "cell_type": "markdown",
   "metadata": {},
   "source": [
    "### 1.3 Technology\n",
    "Have a look at the technology used in this course [here](../md/technologies.md).\n",
    "\n",
    "\n",
    "Most important is Scikit learn\n",
    "\n",
    "Here is an example on a simple classification model. The procedure is always consitent:\n",
    "\n",
    "- create a model -->  fit (learning from data)  --> predict (using the model to make predicionts)\n",
    "\n",
    "\n",
    "First build a classifier and load some data"
   ]
  },
  {
   "cell_type": "code",
   "execution_count": null,
   "metadata": {},
   "outputs": [],
   "source": [
    "from sklearn import svm\n",
    "from sklearn import datasets\n",
    "clf = svm.SVC(gamma='scale')\n",
    "iris = datasets.load_iris()"
   ]
  },
  {
   "cell_type": "markdown",
   "metadata": {},
   "source": [
    "Next, prepare the data and fit the model"
   ]
  },
  {
   "cell_type": "code",
   "execution_count": null,
   "metadata": {},
   "outputs": [],
   "source": [
    "X, y = iris.data, iris.target\n",
    "print(X.shape, y.shape)\n",
    "clf.fit(X, y)"
   ]
  },
  {
   "cell_type": "markdown",
   "metadata": {},
   "source": [
    "Now you can use the model to make predictions"
   ]
  },
  {
   "cell_type": "code",
   "execution_count": null,
   "metadata": {},
   "outputs": [],
   "source": [
    "y_pred = clf.predict([[2,2,1,1],[1,1,2,2]])\n",
    "print(y_pred)"
   ]
  }
 ],
 "metadata": {
  "kernelspec": {
   "display_name": "Python 3",
   "language": "python",
   "name": "python3"
  },
  "language_info": {
   "codemirror_mode": {
    "name": "ipython",
    "version": 3
   },
   "file_extension": ".py",
   "mimetype": "text/x-python",
   "name": "python",
   "nbconvert_exporter": "python",
   "pygments_lexer": "ipython3",
   "version": "3.6.5"
  }
 },
 "nbformat": 4,
 "nbformat_minor": 1
}
