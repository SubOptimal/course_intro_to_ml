{
 "cells": [
  {
   "cell_type": "markdown",
   "metadata": {},
   "source": [
    "# Table of Contents\n",
    "- [1. Introduction](#1)\n",
    "    - [1.1 Definitions and Terminology](#1_1)\n",
    "    - [1.2 Machine Learning Concepts](#1_2)\n",
    "    - [1.3 Technology](#1_3)\n",
    "    - [1.4 Exercise](#1_4)\n",
    "    - [1.5 Learning Material](#1_5)\n"
   ]
  },
  {
   "cell_type": "markdown",
   "metadata": {
    "collapsed": true
   },
   "source": [
    "## 1. Introduction<a name=\"1\"></a>"
   ]
  },
  {
   "cell_type": "markdown",
   "metadata": {},
   "source": [
    "### 1.1 Definitions and Terminology<a name=\"1_1\"></a>\n",
    "\n",
    "#### What is machine learning?\n",
    "\n",
    "Machine learning (ML) is a **field of artificial intelligence** that uses statistical techniques to give computer systems the ability to **learn (...) from data**, without being explicitly programmed.\n",
    "The name machine learning was coined in 1959 by Arthur Samuel.\n",
    "\n",
    "[Wikipedia ML](https://en.wikipedia.org/wiki/Machine_learning)\n",
    "<img alt=\"ML AI venn diagram\" src=\"../img/1/ML_AI_venn.png\" width=200>\n",
    "\n",
    "#### What is statistical learning?\n",
    "- Machine Learning is a subfield of computer science / artificial intelligence focussing on prediction accuracy and big data \n",
    "- **Statistical Learning** is a subfield of statistics focussing on model interpreatbility\n",
    "- Both Machine Learning and Statistical learning focus on supervised and unsupervised learning. They have a lot of overlap.\n",
    "\n"
   ]
  },
  {
   "cell_type": "markdown",
   "metadata": {},
   "source": [
    "#### What is AI?\n",
    " In computer science AI research is defined as the study of \"intelligent agents\": any device that perceives its environment and takes actions that maximize its chance of successfully achieving its goals.\n",
    "[Wikipedia AI](https://en.wikipedia.org/wiki/Artificial_intelligence)\n",
    "\n",
    "#### Neural Networks\n",
    "Artificial neural networks (ANN) or connectionist systems are computing systems vaguely inspired by the biological neural networks that constitute animal brains.\n",
    "[Wikipedia NN](https://en.wikipedia.org/wiki/Artificial_neural_network) \n",
    "\n",
    "A deep neural network (DNN) is an artificial neural network (ANN) with multiple layers between the input and output layers.\n",
    "[Wikipedia Deep Neural Networks](https://en.wikipedia.org/wiki/Deep_learning#Neural_networks)"
   ]
  },
  {
   "cell_type": "markdown",
   "metadata": {},
   "source": [
    "### 1.2 Machine Learning Concepts<a name=\"1_2\"></a>\n",
    "\n",
    "#### Difference between traditional programming and Machine Learning\n",
    "\n",
    "\n",
    "<img src=\"../img/1/ML_vs_trad.png\" width=400 alt=\"ML vs traditional programming\">\n"
   ]
  },
  {
   "cell_type": "markdown",
   "metadata": {},
   "source": [
    "#### General Concept\n",
    "The learning problem is characterized by observations comprised of **input data (X)** and **output data (y)** and some unknown but coherent relationship between the two.\n",
    "\n",
    "![ML mapping input to output](../img/1/ml_in_out.png)\n",
    "\n",
    "The goal of the learning system is to **learn a generalized mapping** between input and output data such that skillful predictions can be made for new instances drawn from the domain where the output variable is unknown.\n",
    "\n",
    "In statistical learning the problem is framed as the learning of a **target function ($f$)** given **input data (X)** and associated **output data (y)**.\n",
    "\n",
    "$$y = f(X)$$\n",
    "\n",
    "We have a sample of X and y and do our best to come up with a **function  $\\hat{f}$ that approximates $f$**, so that we can make **predictions ($\\hat{y}$)** given **new examples ($X$)** in the future.\n",
    "\n",
    "$$\\hat{y} = \\hat{f}(X)$$\n",
    "\n",
    "$\\hat{y}, \\hat{f}$ are pronounced **y-hat** and **f-hat**\n",
    "\n",
    "[machinelearningmastery](https://machinelearningmastery.com/applied-machine-learning-as-a-search-problem/)"
   ]
  },
  {
   "cell_type": "markdown",
   "metadata": {},
   "source": [
    "#### A Simple Example\n",
    "<table>\n",
    "    <tr>\n",
    "        <td  style=\"text-align:left\" width=300>\n",
    "            When looking at data one tries to identify patterns in the data as shown here. \n",
    "            We wonder what is the cause of that pattern. \n",
    "            We can build a <em>model</em> to try to explain the pattern we observe.\n",
    "            <ul>\n",
    "                <li> Y is the dependant variable, outcome, response, target</li>                \n",
    "                <li> X is the independent variable, features</li>\n",
    "            </ul>\n",
    "        </td>\n",
    "        <td>\n",
    "            <img alt=\"simple example\" src=\"../img/1/simple_example.png\" width=400>\n",
    "        </td>\n",
    "    </tr>\n",
    "</table>\n",
    "\n",
    "\n",
    "\n",
    "We believe there is a true mechanism ($\\color{red}{target function f(x)}$ ) that describes the relationship between our variables. The aim of machine learning is to find a model ($\\color{blue}{model \\hat{f}(x)}$) that estimates this function from the data. \n",
    "\n",
    "![estimating the target function](../img/1/target_function.jpg)"
   ]
  },
  {
   "cell_type": "markdown",
   "metadata": {},
   "source": [
    "#### Supervised and Unsupervised Learning\n",
    "\n",
    "On the highest level machine learning can be subdived into *supervised* and *unsupervised learning*.\n",
    "\n",
    "The criteria is the presence or absence of **labels**. \n",
    "\n",
    "Next you see some code to generate a data frame with random numbers.\n",
    "\n",
    "Rows are **observations** or **samples**. Columns 0-4 are **features**. Y is the **class label**."
   ]
  },
  {
   "cell_type": "code",
   "execution_count": 19,
   "metadata": {},
   "outputs": [],
   "source": [
    "from sklearn.datasets import make_classification\n",
    "\n",
    "# Create a simulated feature matrix and output vector\n",
    "X, y = make_classification(n_samples = 100, n_features = 5, n_informative = 3, n_redundant = 2,\n",
    "                                       n_classes = 3, weights = [.2, .3, .5])"
   ]
  },
  {
   "cell_type": "code",
   "execution_count": 22,
   "metadata": {},
   "outputs": [
    {
     "name": "stdout",
     "output_type": "stream",
     "text": [
      "<class 'numpy.ndarray'> (100, 5)\n",
      "[[-4.3662372   0.26682849  1.41056572  2.11345454 -3.69853933]\n",
      " [ 0.28922217  0.69174042 -2.73275443  1.52003438  1.90527273]\n",
      " [-1.32709508 -1.32133369 -0.04433766  1.42139382  0.2274384 ]\n",
      " [ 1.50238113  3.18678805 -0.89299386 -1.46836644 -0.6546447 ]\n",
      " [ 0.76760114 -0.53344296  2.70139399 -2.32299048 -1.41611613]\n",
      " [-0.17194272 -1.60445762  0.23286892  0.46504719  0.82279519]\n",
      " [ 1.58927845 -1.52731849  0.58725601 -1.10451317  1.4354908 ]\n",
      " [ 0.94268162  0.66572803 -2.16486717  0.64348125  1.81489717]\n",
      " [-1.15895155  0.37399238 -1.30228731  1.66199782  0.1746625 ]\n",
      " [-0.01017778 -0.78408225 -1.60156076  1.3971026   1.83887947]] \n",
      "\n",
      "<class 'numpy.ndarray'> (100,)\n",
      "[0 1 2 0 2 2 1 1 2 2]\n"
     ]
    }
   ],
   "source": [
    "# View the first 10 observations\n",
    "print(type(X), X.shape)\n",
    "print(X[0:10,:], \"\\n\")\n",
    "\n",
    "# View the first 10 labels\n",
    "print(type(y), y.shape)\n",
    "print(y[0:10])"
   ]
  },
  {
   "cell_type": "markdown",
   "metadata": {},
   "source": [
    "#### Supervised Learning\n",
    "you start with\n",
    "- y = outcome measurement (label, dependent variable, response, target)\n",
    "\t- regression problem y is continuous (5, 3.456, 1023) \n",
    "\t- classification problem y is discrete (yes/no, A,B,C)\n",
    "- X = vector of predictor measurement (independent variable, features)\n",
    "- training data: observations of measurements: $(x_1,y_1), (x_2,y_2), (x_3,y_3) ... (x_n,y_n)$\n",
    "\n",
    "\n",
    "e.g. Classification, Regression\n",
    "\n",
    "You will learn more about [supervised learning](2_supervised_learning.ipynb) in the next class."
   ]
  },
  {
   "cell_type": "markdown",
   "metadata": {},
   "source": [
    "#### Unsupervised Learning\n",
    "you start with\n",
    "- no outcome variable\n",
    "- X = vector of measurements(independent variable, features)\n",
    "- objective is more fuzzy: groups samples, find features\n",
    "- more difficult to evaluate, but easier to get training data\n",
    "- observations of measurements: $x_1, x_2, x_3 ... x_n$\n",
    "\n",
    "\n",
    "Objectives are more fuzzy for unsupervised learning\n",
    "\n",
    "Using the training data we want:\n",
    "- Find samples that behave similarly\n",
    "- Find features that behave similarly\n",
    "- Difficult to assess quality\n",
    "\n",
    "e.g. Clustering\n",
    "<img src=\"../img/1/cats_and_dogs.png\" alt=\"cats and dogs\" width=500>\n",
    "\n",
    "You will learn more about [unsupervised learning](3_unsupervised_learning.ipynb) later today."
   ]
  },
  {
   "cell_type": "markdown",
   "metadata": {},
   "source": [
    "Unsupervised vs Supervised Learning\n",
    "\n",
    "<img src=\"../img/1/cluster_vs_classify.png\" alt=\"clustering vs classification\" width=500>\n",
    "\n",
    "source: https://deepcast.ai/media/article3/"
   ]
  },
  {
   "cell_type": "markdown",
   "metadata": {},
   "source": [
    "#### Concept Map\n",
    "<table>\n",
    "    <tr>\n",
    "        <td>\n",
    "            <img src=\"../img/1/machine_learning_cmap.jpg\" alt=\"ML concept map\" width=500>\n",
    "        </td>\n",
    "        <td>\n",
    "            <img src=\"../img/1/ML_concept_map.png\" alt=\"ML concept map\" width=250>\n",
    "        </td>\n",
    "    </tr>\n",
    "</table>\n"
   ]
  },
  {
   "cell_type": "markdown",
   "metadata": {},
   "source": [
    "#### Regression vs Classification\n",
    "Supervised learning problems can be further divided into regression and classification problems.\n",
    "This depends on the data type of the target variable y.\n",
    "\n",
    "1. Regression covers situations where y is **numerical**. e.g.\n",
    "    - Predicting the **value** of the DAX next week.\n",
    "    - Predicting the **price** of a given house based on various inputs.\n",
    "\n",
    "\n",
    "2. Classification covers situations where y is **categorical-nominal** e.g.\n",
    "    - Will the DAX be **up or down** next week?\n",
    "    - Is this email a **SPAM or not**?        \n",
    "\n",
    "\n",
    "- Either regression or classification could be used if y is **categorical-ordinal** e.g.\n",
    "    - Predict the grade in an exam (A, B, C, D, F) based on hours studied for the exam.\n",
    "    - Predict the bank credit rating based on bank features.\n",
    "\n",
    "  Regression is usually more appropriate here.\n",
    "\n",
    "<img src=\"../img/1/categorical_numerical_vars.jpg\" width=350>\n"
   ]
  },
  {
   "cell_type": "markdown",
   "metadata": {},
   "source": [
    "#### Why do we estimate $f(x)$? \n",
    "\n",
    "There are 2 reasons:\n",
    "1. Prediction\n",
    "2. Inference\n",
    "\n",
    "##### Prediction\n",
    "If we can produce a good estimate for f, we can make accurate predictions for the response Y, based on a new value of X.\n",
    "\n",
    "E. g. predicting how much money someone will earn based on education level and age.\n",
    "\n",
    "##### Inference\n",
    "Alternatively, we may also be interested in **understanding** the type of relationship between Y and the X's. For example, \n",
    "- Which particular feature actually affect the response? \n",
    "- Is the relationship positive or negative? \n",
    "- Is the relationship a simple linear one or is it more complicated etc.?\n",
    "\n",
    "\n",
    "##### There is a Trade-off: Prediction vs Inference\n",
    "Simple models are often advantageous for both prediction as well as Inference.\n",
    "- Simple models are easier to interpret. Easier to understand.\n",
    "- Also, a simple model is often easier to train. It is harder to fit a flexible model. Only really complex tasks require more flexible models such as neural networks.\n",
    "\n",
    "Take home message: Always start with a simple model."
   ]
  },
  {
   "cell_type": "markdown",
   "metadata": {},
   "source": [
    "#### Assessing Model Quality\n",
    "\n",
    "How do we know if the model we build is close enough to the target function?\n",
    "\n",
    "How good are our predictions?\n",
    "\n",
    "We need to test our model. One way to do this is to **split our data** set into:\n",
    "    - train \n",
    "    - test\n"
   ]
  },
  {
   "cell_type": "code",
   "execution_count": null,
   "metadata": {},
   "outputs": [],
   "source": [
    "from sklearn.model_selection import train_test_split\n",
    "X_train, X_test, y_train, y_test = train_test_split(X, y, test_size=0.3, random_state=42)\n",
    "print(\"Train data X and y: \", X_train.shape, y_train.shape)\n",
    "print(\"Test data X and y: \", X_test.shape, y_test.shape)"
   ]
  },
  {
   "cell_type": "markdown",
   "metadata": {},
   "source": [
    "### 1.3 Technology<a name=\"1_3\"></a>\n",
    "Have a look at the technology used in this course [technologies.md](../md/technologies.md).\n",
    "\n",
    "\n",
    "Scikit learn is a collection of ML methods that can be used throughout any data science project.\n",
    "\n",
    "Here is an example on a simple classification model. The procedure is always consitent:\n",
    "\n",
    "- create a model -->  fit (learning from data)  --> predict (using the model to make predicionts) --> evaluate predictions\n",
    "\n",
    "\n",
    "First build a classifier"
   ]
  },
  {
   "cell_type": "code",
   "execution_count": null,
   "metadata": {},
   "outputs": [],
   "source": [
    "from sklearn import svm\n",
    "clf = svm.SVC(gamma='scale')\n",
    "print(clf)"
   ]
  },
  {
   "cell_type": "markdown",
   "metadata": {},
   "source": [
    "Next, fit the model"
   ]
  },
  {
   "cell_type": "code",
   "execution_count": null,
   "metadata": {},
   "outputs": [],
   "source": [
    "print(X_train.shape, y_train.shape)\n",
    "clf.fit(X_train, y_train)"
   ]
  },
  {
   "cell_type": "markdown",
   "metadata": {},
   "source": [
    "Now you can use the model to make predictions and compare with the truth."
   ]
  },
  {
   "cell_type": "code",
   "execution_count": null,
   "metadata": {},
   "outputs": [],
   "source": [
    "y_pred = clf.predict(X_test)\n",
    "print(\"test:\", y_test)\n",
    "print(\"pred:\", y_pred)\n",
    "print(\"sum of correct predictions\", sum(y_test == y_pred))\n",
    "print(\"length of predictions\", len(y_pred))\n",
    "\n",
    "print(\"accuracy: \", sum(y_test == y_pred) / len(y_pred))"
   ]
  },
  {
   "cell_type": "markdown",
   "metadata": {},
   "source": [
    "## 1.4 Exercise<a name=\"1_4\"></a>\n",
    "- Change the code in this function: **make_classification**.  [API doc on make_classification](https://scikit-learn.org/stable/modules/generated/sklearn.datasets.make_classification.html)\n",
    "    \tWhat happens to the accuracy, if you change the values for\n",
    "        n_samples, n_features, n_informative, n_redundant, n_classes, weights?\n",
    "- Change the random_state in the function **train_test_split**. [API doc on train_test_split](https://scikit-learn.org/stable/modules/generated/sklearn.model_selection.train_test_split.html)\n",
    "        What does this do?"
   ]
  },
  {
   "cell_type": "markdown",
   "metadata": {},
   "source": [
    "## 1.5 Learning Material<a name=\"1_5\"></a>"
   ]
  },
  {
   "cell_type": "markdown",
   "metadata": {},
   "source": [
    "- [machinelearningmastery](https://machinelearningmastery.com/applied-machine-learning-as-a-search-problem/)\n",
    "- [ISLR](http://www-bcf.usc.edu/~gareth/ISL/)\n",
    "- [train_test_split](https://scikit-learn.org/stable/modules/generated/sklearn.model_selection.train_test_split.html)\n",
    "- [make_classification](https://scikit-learn.org/stable/modules/generated/sklearn.datasets.make_classification.html)"
   ]
  }
 ],
 "metadata": {
  "kernelspec": {
   "display_name": "Python 3",
   "language": "python",
   "name": "python3"
  },
  "language_info": {
   "codemirror_mode": {
    "name": "ipython",
    "version": 3
   },
   "file_extension": ".py",
   "mimetype": "text/x-python",
   "name": "python",
   "nbconvert_exporter": "python",
   "pygments_lexer": "ipython3",
   "version": "3.6.5"
  }
 },
 "nbformat": 4,
 "nbformat_minor": 1
}
