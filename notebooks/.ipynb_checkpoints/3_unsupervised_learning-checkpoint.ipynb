{
 "cells": [
  {
   "cell_type": "markdown",
   "metadata": {
    "collapsed": true
   },
   "source": [
    "## 3. Unsupervised Learning\n",
    "Clustering: K-means, dimension reduction: PCA and t-SNE"
   ]
  },
  {
   "cell_type": "markdown",
   "metadata": {},
   "source": [
    "## What is it?"
   ]
  },
  {
   "cell_type": "markdown",
   "metadata": {},
   "source": [
    "Unsupervised learning is when you have input data/independent variable (X) but no corresponding output variable.\n",
    "\n",
    "Aim: To model the underlying structure/distribution in the dataset to learn more about the data.\n",
    "\n",
    "Unlike supervised learning, there are no correct answers and no teachers. Algorithms need to be implemented to find any interesting structures in the data.\n",
    "\n",
    "Unsupervised learning problems can be further grouped into clustering and association problems.\n",
    "\n",
    "    Clustering: A clustering problem is where you want to discover the inherent groupings in the data, such as grouping customers by purchasing behavior.\n",
    "    Association:  An association rule learning problem is where you want to discover rules that describe large portions of your data, such as people that buy X also tend to buy Y.\n",
    "\n",
    "Some popular examples of unsupervised learning algorithms are:\n",
    "\n",
    "    k-means for clustering problems.\n",
    "    Apriori algorithm for association rule learning problems.\n",
    "\n",
    "These algorithms/models are harder to evaluate. However, training data is easier to obtain in these cases. We can then find samples or features that have some similiarities and can be grouped together."
   ]
  },
  {
   "cell_type": "markdown",
   "metadata": {},
   "source": [
    "\n",
    "### 1.2 Unsupervised Learning Concepts\n",
    "\n",
    "#### Difference between supervised and unsupervised Machine Learning\n",
    "![supervised vs unsupervised](../img/code.jpg)"
   ]
  },
  {
   "cell_type": "markdown",
   "metadata": {},
   "source": [
    "#### Interesting\n",
    "![supervised vs unsupervised](../img/sports.jpg)"
   ]
  },
  {
   "cell_type": "code",
   "execution_count": null,
   "metadata": {},
   "outputs": [],
   "source": []
  }
 ],
 "metadata": {
  "kernelspec": {
   "display_name": "Python 3",
   "language": "python",
   "name": "python3"
  },
  "language_info": {
   "codemirror_mode": {
    "name": "ipython",
    "version": 3
   },
   "file_extension": ".py",
   "mimetype": "text/x-python",
   "name": "python",
   "nbconvert_exporter": "python",
   "pygments_lexer": "ipython3",
   "version": "3.6.5"
  }
 },
 "nbformat": 4,
 "nbformat_minor": 1
}
